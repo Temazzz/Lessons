{
 "cells": [
  {
   "cell_type": "code",
   "execution_count": 1,
   "metadata": {},
   "outputs": [],
   "source": [
    "import pandas as pd\n",
    "import numpy as np"
   ]
  },
  {
   "cell_type": "markdown",
   "metadata": {},
   "source": [
    "Экспортируем файл excel и преобразуем его в data frame для удобства работы."
   ]
  },
  {
   "cell_type": "code",
   "execution_count": 2,
   "metadata": {},
   "outputs": [
    {
     "data": {
      "text/html": [
       "<div>\n",
       "<style scoped>\n",
       "    .dataframe tbody tr th:only-of-type {\n",
       "        vertical-align: middle;\n",
       "    }\n",
       "\n",
       "    .dataframe tbody tr th {\n",
       "        vertical-align: top;\n",
       "    }\n",
       "\n",
       "    .dataframe thead th {\n",
       "        text-align: right;\n",
       "    }\n",
       "</style>\n",
       "<table border=\"1\" class=\"dataframe\">\n",
       "  <thead>\n",
       "    <tr style=\"text-align: right;\">\n",
       "      <th></th>\n",
       "      <th>InvoiceNo</th>\n",
       "      <th>StockCode</th>\n",
       "      <th>Description</th>\n",
       "      <th>Quantity</th>\n",
       "      <th>InvoiceDate</th>\n",
       "      <th>UnitPrice</th>\n",
       "      <th>CustomerID</th>\n",
       "      <th>Country</th>\n",
       "    </tr>\n",
       "  </thead>\n",
       "  <tbody>\n",
       "    <tr>\n",
       "      <th>0</th>\n",
       "      <td>536365</td>\n",
       "      <td>84029E</td>\n",
       "      <td>RED WOOLLY HOTTIE WHITE HEART.</td>\n",
       "      <td>6</td>\n",
       "      <td>2010-12-01 08:26:00</td>\n",
       "      <td>3.39</td>\n",
       "      <td>17850.0</td>\n",
       "      <td>United Kingdom</td>\n",
       "    </tr>\n",
       "    <tr>\n",
       "      <th>1</th>\n",
       "      <td>536367</td>\n",
       "      <td>84879</td>\n",
       "      <td>ASSORTED COLOUR BIRD ORNAMENT</td>\n",
       "      <td>32</td>\n",
       "      <td>2010-12-01 08:34:00</td>\n",
       "      <td>1.69</td>\n",
       "      <td>13047.0</td>\n",
       "      <td>United Kingdom</td>\n",
       "    </tr>\n",
       "    <tr>\n",
       "      <th>2</th>\n",
       "      <td>536367</td>\n",
       "      <td>21755</td>\n",
       "      <td>LOVE BUILDING BLOCK WORD</td>\n",
       "      <td>3</td>\n",
       "      <td>2010-12-01 08:34:00</td>\n",
       "      <td>5.95</td>\n",
       "      <td>13047.0</td>\n",
       "      <td>United Kingdom</td>\n",
       "    </tr>\n",
       "    <tr>\n",
       "      <th>3</th>\n",
       "      <td>536368</td>\n",
       "      <td>22914</td>\n",
       "      <td>BLUE COAT RACK PARIS FASHION</td>\n",
       "      <td>3</td>\n",
       "      <td>2010-12-01 08:34:00</td>\n",
       "      <td>4.95</td>\n",
       "      <td>13047.0</td>\n",
       "      <td>United Kingdom</td>\n",
       "    </tr>\n",
       "    <tr>\n",
       "      <th>4</th>\n",
       "      <td>536373</td>\n",
       "      <td>84406B</td>\n",
       "      <td>CREAM CUPID HEARTS COAT HANGER</td>\n",
       "      <td>8</td>\n",
       "      <td>2010-12-01 09:02:00</td>\n",
       "      <td>2.75</td>\n",
       "      <td>17850.0</td>\n",
       "      <td>United Kingdom</td>\n",
       "    </tr>\n",
       "    <tr>\n",
       "      <th>...</th>\n",
       "      <td>...</td>\n",
       "      <td>...</td>\n",
       "      <td>...</td>\n",
       "      <td>...</td>\n",
       "      <td>...</td>\n",
       "      <td>...</td>\n",
       "      <td>...</td>\n",
       "      <td>...</td>\n",
       "    </tr>\n",
       "    <tr>\n",
       "      <th>54209</th>\n",
       "      <td>581585</td>\n",
       "      <td>84832</td>\n",
       "      <td>ZINC WILLIE WINKIE  CANDLE STICK</td>\n",
       "      <td>24</td>\n",
       "      <td>2011-12-09 12:31:00</td>\n",
       "      <td>0.85</td>\n",
       "      <td>15804.0</td>\n",
       "      <td>United Kingdom</td>\n",
       "    </tr>\n",
       "    <tr>\n",
       "      <th>54210</th>\n",
       "      <td>581585</td>\n",
       "      <td>23084</td>\n",
       "      <td>RABBIT NIGHT LIGHT</td>\n",
       "      <td>12</td>\n",
       "      <td>2011-12-09 12:31:00</td>\n",
       "      <td>2.08</td>\n",
       "      <td>15804.0</td>\n",
       "      <td>United Kingdom</td>\n",
       "    </tr>\n",
       "    <tr>\n",
       "      <th>54211</th>\n",
       "      <td>581585</td>\n",
       "      <td>84692</td>\n",
       "      <td>BOX OF 24 COCKTAIL PARASOLS</td>\n",
       "      <td>25</td>\n",
       "      <td>2011-12-09 12:31:00</td>\n",
       "      <td>0.42</td>\n",
       "      <td>15804.0</td>\n",
       "      <td>United Kingdom</td>\n",
       "    </tr>\n",
       "    <tr>\n",
       "      <th>54212</th>\n",
       "      <td>581587</td>\n",
       "      <td>22631</td>\n",
       "      <td>CIRCUS PARADE LUNCH BOX</td>\n",
       "      <td>12</td>\n",
       "      <td>2011-12-09 12:50:00</td>\n",
       "      <td>1.95</td>\n",
       "      <td>12680.0</td>\n",
       "      <td>France</td>\n",
       "    </tr>\n",
       "    <tr>\n",
       "      <th>54213</th>\n",
       "      <td>581587</td>\n",
       "      <td>23255</td>\n",
       "      <td>CHILDRENS CUTLERY CIRCUS PARADE</td>\n",
       "      <td>4</td>\n",
       "      <td>2011-12-09 12:50:00</td>\n",
       "      <td>4.15</td>\n",
       "      <td>12680.0</td>\n",
       "      <td>France</td>\n",
       "    </tr>\n",
       "  </tbody>\n",
       "</table>\n",
       "<p>54214 rows × 8 columns</p>\n",
       "</div>"
      ],
      "text/plain": [
       "      InvoiceNo StockCode                       Description  Quantity  \\\n",
       "0        536365    84029E    RED WOOLLY HOTTIE WHITE HEART.         6   \n",
       "1        536367     84879     ASSORTED COLOUR BIRD ORNAMENT        32   \n",
       "2        536367     21755          LOVE BUILDING BLOCK WORD         3   \n",
       "3        536368     22914      BLUE COAT RACK PARIS FASHION         3   \n",
       "4        536373    84406B    CREAM CUPID HEARTS COAT HANGER         8   \n",
       "...         ...       ...                               ...       ...   \n",
       "54209    581585     84832  ZINC WILLIE WINKIE  CANDLE STICK        24   \n",
       "54210    581585     23084                RABBIT NIGHT LIGHT        12   \n",
       "54211    581585     84692       BOX OF 24 COCKTAIL PARASOLS        25   \n",
       "54212    581587     22631          CIRCUS PARADE LUNCH BOX         12   \n",
       "54213    581587     23255   CHILDRENS CUTLERY CIRCUS PARADE         4   \n",
       "\n",
       "              InvoiceDate  UnitPrice  CustomerID         Country  \n",
       "0     2010-12-01 08:26:00       3.39     17850.0  United Kingdom  \n",
       "1     2010-12-01 08:34:00       1.69     13047.0  United Kingdom  \n",
       "2     2010-12-01 08:34:00       5.95     13047.0  United Kingdom  \n",
       "3     2010-12-01 08:34:00       4.95     13047.0  United Kingdom  \n",
       "4     2010-12-01 09:02:00       2.75     17850.0  United Kingdom  \n",
       "...                   ...        ...         ...             ...  \n",
       "54209 2011-12-09 12:31:00       0.85     15804.0  United Kingdom  \n",
       "54210 2011-12-09 12:31:00       2.08     15804.0  United Kingdom  \n",
       "54211 2011-12-09 12:31:00       0.42     15804.0  United Kingdom  \n",
       "54212 2011-12-09 12:50:00       1.95     12680.0          France  \n",
       "54213 2011-12-09 12:50:00       4.15     12680.0          France  \n",
       "\n",
       "[54214 rows x 8 columns]"
      ]
     },
     "execution_count": 2,
     "metadata": {},
     "output_type": "execute_result"
    }
   ],
   "source": [
    "df = pd.read_excel('Data_sample.xlsx')\n",
    "df"
   ]
  },
  {
   "cell_type": "markdown",
   "metadata": {},
   "source": [
    "Выведем общую информацию по источнику:"
   ]
  },
  {
   "cell_type": "code",
   "execution_count": 3,
   "metadata": {},
   "outputs": [
    {
     "name": "stdout",
     "output_type": "stream",
     "text": [
      "<class 'pandas.core.frame.DataFrame'>\n",
      "RangeIndex: 54214 entries, 0 to 54213\n",
      "Data columns (total 8 columns):\n",
      " #   Column       Non-Null Count  Dtype         \n",
      "---  ------       --------------  -----         \n",
      " 0   InvoiceNo    54214 non-null  object        \n",
      " 1   StockCode    54214 non-null  object        \n",
      " 2   Description  54080 non-null  object        \n",
      " 3   Quantity     54214 non-null  int64         \n",
      " 4   InvoiceDate  54214 non-null  datetime64[ns]\n",
      " 5   UnitPrice    54214 non-null  float64       \n",
      " 6   CustomerID   40643 non-null  float64       \n",
      " 7   Country      54214 non-null  object        \n",
      "dtypes: datetime64[ns](1), float64(2), int64(1), object(4)\n",
      "memory usage: 3.3+ MB\n"
     ]
    }
   ],
   "source": [
    "df.info()"
   ]
  },
  {
   "cell_type": "code",
   "execution_count": 4,
   "metadata": {},
   "outputs": [
    {
     "data": {
      "text/plain": [
       "array([    6,    32,     3,     8,    10,     2,     1,     4,    -1,\n",
       "         100,    12,    24,   144,    48,   -24,     5,    40,    36,\n",
       "          96,    72,    16,    30,     9,     7,    18,    60,    20,\n",
       "          -3,   108,    75,   320,    17,  -144,    -2,    -4,    21,\n",
       "          47,    25,   192,    31,    57,    -6,   -70,   -80,    14,\n",
       "          15,   120,   480,    33,    22,    49,    -8,    -9,    19,\n",
       "         -72,   160,    64,   104,    13,    26,    11,   408,    50,\n",
       "         200,    46,    80,   -77,  -150,  -723,   -32,    23,    84,\n",
       "         -12,   -18,   -11,   113,    45,    35,    38,   115,   -48,\n",
       "         -10,    -7,   -20,  -240,   460,   240,   288,   -36,    53,\n",
       "         216,  -120,   150,   168,   -30,   -40,    54,    28,  1284,\n",
       "          29,    41,    27,  -310,    78,   -15,   384,    73,    37,\n",
       "         720,   -50,    -5,  -600,   432,  1200,   -19,  -234,   208,\n",
       "         -76,   -16,   300,   256,  1500,   407,  2400,  -192,   576,\n",
       "          44,    70,  -178,   500,   800,   -96,    55,   -41,   360,\n",
       "        -524,    42,  -105,   400,   252,   -22,   164,    90,   122,\n",
       "         165,   -46,  -200,   312,   -26,    63,   -52,   -54,   -31,\n",
       "         -17,   -82,  -100,    88,   130,   -93,   -51,   -38,  -413,\n",
       "         -39,   420,   888,    43,   250,   600,    51,   -21,   -34,\n",
       "         -95, -9600,   112,    68,  -126,   128,   768,   696,  -110,\n",
       "          34,   -35,   -84,    87,    83,    39,  -346,   324,   352,\n",
       "        1440,   -44,   180,   220,   700,    61,    93,    66,    94,\n",
       "         824,   196,   124,   248,   222,  -156,  -432,   -27,  -318,\n",
       "        -180,   -49,  -242,   504,  1000,  -635,  -117,    89,    92,\n",
       "         186,   744,  -756,   -23,   -79,  -288,    52,  -458,   -14,\n",
       "         -29,   -13, -1296,   -25,  -147,  1728,  -468,   148,  -905,\n",
       "       -1128,   -90,  2100,   126,   -64,   264,   109,    86,   257,\n",
       "          98,    82,   171,    62,   375,   -63,   255,   392,   153,\n",
       "         158,    71,   654,   268,   456,  1600,  -250,   -98,   864,\n",
       "        -135,    67,    59,   490,    85,   184,   -42,  1404,  -337,\n",
       "        -338,   105,   698,   110], dtype=int64)"
      ]
     },
     "execution_count": 4,
     "metadata": {},
     "output_type": "execute_result"
    }
   ],
   "source": [
    "df.Quantity.unique()"
   ]
  },
  {
   "cell_type": "code",
   "execution_count": 5,
   "metadata": {},
   "outputs": [
    {
     "name": "stdout",
     "output_type": "stream",
     "text": [
      "Количество пустых значений CustomerID:  13571\n",
      "Процент пустых значений CustomerID:  25.032279485003873 %\n"
     ]
    }
   ],
   "source": [
    "# проверим пустые значения по пользователям\n",
    "nul_ID = df.loc[pd.isnull(df.CustomerID), :].Country.count()\n",
    "print('Количество пустых значений CustomerID: ',nul_ID)\n",
    "print('Процент пустых значений CustomerID: ',(nul_ID / df.Country.count())*100,'%')"
   ]
  },
  {
   "cell_type": "code",
   "execution_count": 10,
   "metadata": {},
   "outputs": [
    {
     "name": "stdout",
     "output_type": "stream",
     "text": [
      "Количество отрицательного объема: -56072.100000000006\n"
     ]
    }
   ],
   "source": [
    "negative_quantity = df.loc[df.Quantity <= 0]\n",
    "print('Количество отрицательного объема:', negative_quantity.sum_order.sum()) \n",
    "# первоначального описания, почему объем отрицательный не было, будем считать это категориями возврата, брака, скидок"
   ]
  },
  {
   "cell_type": "markdown",
   "metadata": {},
   "source": [
    "Датасет по покупкам интернет-магазина состоит из 8 столбцов с информацией и 54214 строк. Есть номер платежа, код покупки, описание, количество единиц заказа по каждой категории, дата покупки, цена за единицу товара, ID покупателя и страна (скорее всего доставки).\n",
    "\n",
    "Пустые или незаполненные строки присутствуют в CustomerID и Description. Потеря идентификационного номера пользователя более 25%, что много. Возможно ошибки произошли в результате сбоя ПО. Также замечено, что в столбце Quantity(Количество) имеются отрицательные значения,что можно расценивать или как ошибку сбора датасета или как возврат товара, скидку, брак. Данных значений более 34000, что является большой долей из общего количества.\n",
    "\n",
    "В общем можно расценивать достаточность в данных для проведения поверхностного анализа.\n",
    "\n",
    "Основная бизнес задача - максимизация прибыли. Следовательно будем искать точки роста бизнеса, куда можно направить силы компании. В данных отсутствует информация о затратах на производство, логистику, маркетинг, конкурентное сравнение по рынку и т.п. следовательно построить цельную иерархию метрик у нас не получится. Будим исходить из того, что есть.\n",
    "\n",
    "Используемые метрики для проведения анализа:\n",
    "\n",
    "    Доход, отдельно по каждой стране (Revenue)\n",
    "    Доход с пользователя за месяц (ARPU)\n",
    "    Средний чек заказа (AOV)\n",
    "    Количество заказов по клиентам\n",
    "    Средняя цена товара или средний чек (APP)\n",
    "    Также будем смотреть, что можно сделать для увеличения среднего чека, в каких странах продажи идут хорошо, а в каких нет, что сделать для потенциального увеличения доходов компании\n",
    "    \n",
    "Посмотрим более подробно на данные\n",
    "\n",
    "Посмотрим количество уникальных пользователей"
   ]
  },
  {
   "cell_type": "code",
   "execution_count": 7,
   "metadata": {},
   "outputs": [
    {
     "data": {
      "text/plain": [
       "3819"
      ]
     },
     "execution_count": 7,
     "metadata": {},
     "output_type": "execute_result"
    }
   ],
   "source": [
    "df['CustomerID'].nunique()"
   ]
  },
  {
   "cell_type": "markdown",
   "metadata": {},
   "source": [
    "Какой средний объем заказа?"
   ]
  },
  {
   "cell_type": "code",
   "execution_count": 8,
   "metadata": {},
   "outputs": [
    {
     "name": "stdout",
     "output_type": "stream",
     "text": [
      "Средний объем заказа: 9.610801637953296\n"
     ]
    }
   ],
   "source": [
    "print('Средний объем заказа:', df.Quantity.mean())"
   ]
  },
  {
   "cell_type": "code",
   "execution_count": 9,
   "metadata": {},
   "outputs": [
    {
     "data": {
      "text/html": [
       "<div>\n",
       "<style scoped>\n",
       "    .dataframe tbody tr th:only-of-type {\n",
       "        vertical-align: middle;\n",
       "    }\n",
       "\n",
       "    .dataframe tbody tr th {\n",
       "        vertical-align: top;\n",
       "    }\n",
       "\n",
       "    .dataframe thead th {\n",
       "        text-align: right;\n",
       "    }\n",
       "</style>\n",
       "<table border=\"1\" class=\"dataframe\">\n",
       "  <thead>\n",
       "    <tr style=\"text-align: right;\">\n",
       "      <th></th>\n",
       "      <th>InvoiceNo</th>\n",
       "      <th>StockCode</th>\n",
       "      <th>Description</th>\n",
       "      <th>Quantity</th>\n",
       "      <th>InvoiceDate</th>\n",
       "      <th>UnitPrice</th>\n",
       "      <th>CustomerID</th>\n",
       "      <th>Country</th>\n",
       "      <th>sum_order</th>\n",
       "    </tr>\n",
       "  </thead>\n",
       "  <tbody>\n",
       "    <tr>\n",
       "      <th>0</th>\n",
       "      <td>536365</td>\n",
       "      <td>84029E</td>\n",
       "      <td>RED WOOLLY HOTTIE WHITE HEART.</td>\n",
       "      <td>6</td>\n",
       "      <td>2010-12-01 08:26:00</td>\n",
       "      <td>3.39</td>\n",
       "      <td>17850.0</td>\n",
       "      <td>United Kingdom</td>\n",
       "      <td>20.34</td>\n",
       "    </tr>\n",
       "    <tr>\n",
       "      <th>1</th>\n",
       "      <td>536367</td>\n",
       "      <td>84879</td>\n",
       "      <td>ASSORTED COLOUR BIRD ORNAMENT</td>\n",
       "      <td>32</td>\n",
       "      <td>2010-12-01 08:34:00</td>\n",
       "      <td>1.69</td>\n",
       "      <td>13047.0</td>\n",
       "      <td>United Kingdom</td>\n",
       "      <td>54.08</td>\n",
       "    </tr>\n",
       "    <tr>\n",
       "      <th>2</th>\n",
       "      <td>536367</td>\n",
       "      <td>21755</td>\n",
       "      <td>LOVE BUILDING BLOCK WORD</td>\n",
       "      <td>3</td>\n",
       "      <td>2010-12-01 08:34:00</td>\n",
       "      <td>5.95</td>\n",
       "      <td>13047.0</td>\n",
       "      <td>United Kingdom</td>\n",
       "      <td>17.85</td>\n",
       "    </tr>\n",
       "    <tr>\n",
       "      <th>3</th>\n",
       "      <td>536368</td>\n",
       "      <td>22914</td>\n",
       "      <td>BLUE COAT RACK PARIS FASHION</td>\n",
       "      <td>3</td>\n",
       "      <td>2010-12-01 08:34:00</td>\n",
       "      <td>4.95</td>\n",
       "      <td>13047.0</td>\n",
       "      <td>United Kingdom</td>\n",
       "      <td>14.85</td>\n",
       "    </tr>\n",
       "    <tr>\n",
       "      <th>4</th>\n",
       "      <td>536373</td>\n",
       "      <td>84406B</td>\n",
       "      <td>CREAM CUPID HEARTS COAT HANGER</td>\n",
       "      <td>8</td>\n",
       "      <td>2010-12-01 09:02:00</td>\n",
       "      <td>2.75</td>\n",
       "      <td>17850.0</td>\n",
       "      <td>United Kingdom</td>\n",
       "      <td>22.00</td>\n",
       "    </tr>\n",
       "    <tr>\n",
       "      <th>...</th>\n",
       "      <td>...</td>\n",
       "      <td>...</td>\n",
       "      <td>...</td>\n",
       "      <td>...</td>\n",
       "      <td>...</td>\n",
       "      <td>...</td>\n",
       "      <td>...</td>\n",
       "      <td>...</td>\n",
       "      <td>...</td>\n",
       "    </tr>\n",
       "    <tr>\n",
       "      <th>54209</th>\n",
       "      <td>581585</td>\n",
       "      <td>84832</td>\n",
       "      <td>ZINC WILLIE WINKIE  CANDLE STICK</td>\n",
       "      <td>24</td>\n",
       "      <td>2011-12-09 12:31:00</td>\n",
       "      <td>0.85</td>\n",
       "      <td>15804.0</td>\n",
       "      <td>United Kingdom</td>\n",
       "      <td>20.40</td>\n",
       "    </tr>\n",
       "    <tr>\n",
       "      <th>54210</th>\n",
       "      <td>581585</td>\n",
       "      <td>23084</td>\n",
       "      <td>RABBIT NIGHT LIGHT</td>\n",
       "      <td>12</td>\n",
       "      <td>2011-12-09 12:31:00</td>\n",
       "      <td>2.08</td>\n",
       "      <td>15804.0</td>\n",
       "      <td>United Kingdom</td>\n",
       "      <td>24.96</td>\n",
       "    </tr>\n",
       "    <tr>\n",
       "      <th>54211</th>\n",
       "      <td>581585</td>\n",
       "      <td>84692</td>\n",
       "      <td>BOX OF 24 COCKTAIL PARASOLS</td>\n",
       "      <td>25</td>\n",
       "      <td>2011-12-09 12:31:00</td>\n",
       "      <td>0.42</td>\n",
       "      <td>15804.0</td>\n",
       "      <td>United Kingdom</td>\n",
       "      <td>10.50</td>\n",
       "    </tr>\n",
       "    <tr>\n",
       "      <th>54212</th>\n",
       "      <td>581587</td>\n",
       "      <td>22631</td>\n",
       "      <td>CIRCUS PARADE LUNCH BOX</td>\n",
       "      <td>12</td>\n",
       "      <td>2011-12-09 12:50:00</td>\n",
       "      <td>1.95</td>\n",
       "      <td>12680.0</td>\n",
       "      <td>France</td>\n",
       "      <td>23.40</td>\n",
       "    </tr>\n",
       "    <tr>\n",
       "      <th>54213</th>\n",
       "      <td>581587</td>\n",
       "      <td>23255</td>\n",
       "      <td>CHILDRENS CUTLERY CIRCUS PARADE</td>\n",
       "      <td>4</td>\n",
       "      <td>2011-12-09 12:50:00</td>\n",
       "      <td>4.15</td>\n",
       "      <td>12680.0</td>\n",
       "      <td>France</td>\n",
       "      <td>16.60</td>\n",
       "    </tr>\n",
       "  </tbody>\n",
       "</table>\n",
       "<p>54214 rows × 9 columns</p>\n",
       "</div>"
      ],
      "text/plain": [
       "      InvoiceNo StockCode                       Description  Quantity  \\\n",
       "0        536365    84029E    RED WOOLLY HOTTIE WHITE HEART.         6   \n",
       "1        536367     84879     ASSORTED COLOUR BIRD ORNAMENT        32   \n",
       "2        536367     21755          LOVE BUILDING BLOCK WORD         3   \n",
       "3        536368     22914      BLUE COAT RACK PARIS FASHION         3   \n",
       "4        536373    84406B    CREAM CUPID HEARTS COAT HANGER         8   \n",
       "...         ...       ...                               ...       ...   \n",
       "54209    581585     84832  ZINC WILLIE WINKIE  CANDLE STICK        24   \n",
       "54210    581585     23084                RABBIT NIGHT LIGHT        12   \n",
       "54211    581585     84692       BOX OF 24 COCKTAIL PARASOLS        25   \n",
       "54212    581587     22631          CIRCUS PARADE LUNCH BOX         12   \n",
       "54213    581587     23255   CHILDRENS CUTLERY CIRCUS PARADE         4   \n",
       "\n",
       "              InvoiceDate  UnitPrice  CustomerID         Country  sum_order  \n",
       "0     2010-12-01 08:26:00       3.39     17850.0  United Kingdom      20.34  \n",
       "1     2010-12-01 08:34:00       1.69     13047.0  United Kingdom      54.08  \n",
       "2     2010-12-01 08:34:00       5.95     13047.0  United Kingdom      17.85  \n",
       "3     2010-12-01 08:34:00       4.95     13047.0  United Kingdom      14.85  \n",
       "4     2010-12-01 09:02:00       2.75     17850.0  United Kingdom      22.00  \n",
       "...                   ...        ...         ...             ...        ...  \n",
       "54209 2011-12-09 12:31:00       0.85     15804.0  United Kingdom      20.40  \n",
       "54210 2011-12-09 12:31:00       2.08     15804.0  United Kingdom      24.96  \n",
       "54211 2011-12-09 12:31:00       0.42     15804.0  United Kingdom      10.50  \n",
       "54212 2011-12-09 12:50:00       1.95     12680.0          France      23.40  \n",
       "54213 2011-12-09 12:50:00       4.15     12680.0          France      16.60  \n",
       "\n",
       "[54214 rows x 9 columns]"
      ]
     },
     "execution_count": 9,
     "metadata": {},
     "output_type": "execute_result"
    }
   ],
   "source": [
    "# добавим столбец со значением суммы заказа (Quantity * UnitPrice)\n",
    "\n",
    "def sum_order(row):\n",
    "    \"\"\"Умножаем значение столбца Quantity на UnitPrice\"\"\"\n",
    "    return row['Quantity'] * row['UnitPrice']\n",
    "df['sum_order'] = df.apply(sum_order, axis=1)\n",
    "df"
   ]
  },
  {
   "cell_type": "markdown",
   "metadata": {},
   "source": [
    "Найдем общую сумму дохода с продаж, средний чек по всем странам(AOV), топ 10 клиентов по количеству заказов.\n",
    "\n",
    "По данным клиентам из топ 10 по заказам можно выслать персонализированное предложение в написании отзыва с предоставлением скидки или предложить реферальную программу (если нет, то это будет тестовое решение с возможным выводом реферальной программы для всех пользователей), дабы повысить лояльность. Если пользователь заказывает большими объемами, то скорее всего, что он является \"адвокатом\" фирмы, что нам на руку."
   ]
  },
  {
   "cell_type": "code",
   "execution_count": 54,
   "metadata": {},
   "outputs": [
    {
     "name": "stdout",
     "output_type": "stream",
     "text": [
      "Сумма дохода с продаж, за вычетом отрицательных значений: 1000095.891\n",
      "Средний чек по всем странам(AOV): 18.447188751982996\n"
     ]
    }
   ],
   "source": [
    "print('Сумма дохода с продаж, за вычетом отрицательных значений:', df.sum_order.sum())\n",
    "print('Средний чек по всем странам(AOV):', df.sum_order.mean())"
   ]
  },
  {
   "cell_type": "code",
   "execution_count": 12,
   "metadata": {},
   "outputs": [
    {
     "data": {
      "text/plain": [
       "17841.0    771\n",
       "14911.0    563\n",
       "14096.0    546\n",
       "12748.0    447\n",
       "14606.0    278\n",
       "15311.0    255\n",
       "14646.0    195\n",
       "13089.0    180\n",
       "13263.0    166\n",
       "14298.0    160\n",
       "Name: CustomerID, dtype: int64"
      ]
     },
     "execution_count": 12,
     "metadata": {},
     "output_type": "execute_result"
    }
   ],
   "source": [
    "df.CustomerID.value_counts().head(10)"
   ]
  },
  {
   "cell_type": "markdown",
   "metadata": {},
   "source": [
    "Посмотрим на какие 10 стран приходится основная доля заказов и их долю"
   ]
  },
  {
   "cell_type": "code",
   "execution_count": 13,
   "metadata": {},
   "outputs": [
    {
     "name": "stdout",
     "output_type": "stream",
     "text": [
      "Топ 10 стран по количеству заказов:\n",
      " United Kingdom    49602\n",
      "Germany             951\n",
      "France              881\n",
      "EIRE                787\n",
      "Spain               253\n",
      "Netherlands         234\n",
      "Belgium             211\n",
      "Switzerland         189\n",
      "Portugal            152\n",
      "Australia           130\n",
      "Name: Country, dtype: int64 \n",
      "\n",
      "Доля топ 10 стран по заказам:\n",
      " United Kingdom    0.914930\n",
      "Germany           0.017542\n",
      "France            0.016250\n",
      "EIRE              0.014517\n",
      "Spain             0.004667\n",
      "Netherlands       0.004316\n",
      "Belgium           0.003892\n",
      "Switzerland       0.003486\n",
      "Portugal          0.002804\n",
      "Australia         0.002398\n",
      "Name: Country, dtype: float64\n"
     ]
    }
   ],
   "source": [
    "print('Топ 10 стран по количеству заказов:\\n',df.Country.value_counts().head(10),'\\n')\n",
    "print('Доля топ 10 стран по заказам:\\n',df.Country.value_counts(1).head(10))"
   ]
  },
  {
   "cell_type": "markdown",
   "metadata": {},
   "source": [
    "Львинная доля приходится на United Kingdom - 91.5%. Ближайшие страны занимают лишь около 2% или менее (Германия, Франция, Ирландия). Что может говорить о направленности бизнеса на внутренний рынок, т.к. остальные страны подразделяются методом территориального угасания по заказам от Великобритании. Скорее всего реклама не продвигается по другим странам или имеет место только \"сарафанного радио\"/рекомендаций. Данный факт необходимо перепроверить с данными отдела маркетинга. Они в общем датасете или описании к нему отсутствуют, данную гипотезу перепроверить в полной не можем или необходимо уточнить данную информацию у заказчика, но сейчас будем основываться на стат. выводах. Попробуем проанализировать данный факт ниже.\n",
    "\n",
    "Проверим, какой будет топ 10 стран по выручке (Revenue):"
   ]
  },
  {
   "cell_type": "code",
   "execution_count": 51,
   "metadata": {},
   "outputs": [
    {
     "data": {
      "text/plain": [
       "Country\n",
       "United Kingdom    844816.921\n",
       "EIRE               27443.140\n",
       "Netherlands        26267.780\n",
       "Germany            22519.200\n",
       "France             19472.990\n",
       "Australia          17072.960\n",
       "Switzerland         6209.300\n",
       "Spain               5955.580\n",
       "Belgium             4032.060\n",
       "Norway              3859.900\n",
       "Name: sum_order, dtype: float64"
      ]
     },
     "execution_count": 51,
     "metadata": {},
     "output_type": "execute_result"
    }
   ],
   "source": [
    "# df.groupby(['CustomerID', 'Country']).sum().sort_values('sum_order', ascending=False).head(10)\n",
    "top_sum = df.groupby('Country').sum().sort_values('sum_order', ascending=False)\n",
    "top_sum['sum_order'].head(10)"
   ]
  },
  {
   "cell_type": "markdown",
   "metadata": {},
   "source": [
    "Стоит отметить, что хоть и подтвердилось, что Великобритания по основной доле, однако страны с меньшей долей заказов, а именно Ирландия и Нидерланды, обошли по полученной выручке Германию и Францию. Особый прирост дали именно Нидерланды. Покупатели из данных стран следовательно заказывают более дорогие вещи.\n",
    "\n",
    "Стоит проверить гипотезу, что по средней цене и по средней выручке будут выше страны из небольшой доли выручки.\n",
    "Посмотрим на топ 10 таких стран:"
   ]
  },
  {
   "cell_type": "code",
   "execution_count": 52,
   "metadata": {},
   "outputs": [
    {
     "data": {
      "text/plain": [
       "Country\n",
       "Hong Kong          92.243103\n",
       "Portugal           11.983882\n",
       "Singapore          11.889200\n",
       "Norway             10.442000\n",
       "Malta               8.477778\n",
       "Cyprus              8.256066\n",
       "Israel              7.175926\n",
       "EIRE                6.974917\n",
       "Brazil              6.150000\n",
       "Channel Islands     5.329259\n",
       "Name: UnitPrice, dtype: float64"
      ]
     },
     "execution_count": 52,
     "metadata": {},
     "output_type": "execute_result"
    }
   ],
   "source": [
    "#Топ 10 стран по по средней цене заказа\n",
    "app = df.groupby('Country').mean().sort_values('UnitPrice', ascending=False)\n",
    "app['UnitPrice'].head(10)"
   ]
  },
  {
   "cell_type": "code",
   "execution_count": 53,
   "metadata": {},
   "outputs": [
    {
     "data": {
      "text/plain": [
       "Country\n",
       "Australia          131.330462\n",
       "Netherlands        112.255470\n",
       "Sweden              74.970400\n",
       "Japan               60.653939\n",
       "Denmark             58.824000\n",
       "Lithuania           48.600000\n",
       "Czech Republic      41.100000\n",
       "Lebanon             39.600000\n",
       "Norway              36.760952\n",
       "Channel Islands     35.530247\n",
       "Name: sum_order, dtype: float64"
      ]
     },
     "execution_count": 53,
     "metadata": {},
     "output_type": "execute_result"
    }
   ],
   "source": [
    "#Топ 10 стран по средней сумме заказа, средний чек (AOV)\n",
    "app_meansum = df.groupby('Country').mean().sort_values('sum_order', ascending=False)\n",
    "app_meansum['sum_order'].head(10)"
   ]
  },
  {
   "cell_type": "markdown",
   "metadata": {},
   "source": [
    "Менеджменту нашей компании стоит обратить внимание на тот факт, что страны с наивысшим средним чеком составляют малую долю, менее 2-х процентов. По средней сумме заказа в разрезе стран также входят с наименьшей долей. Это большая упущенная выгода для компании. Следует поднимать объемы заказов с данных стран, использовав маркетинг или другие способы. Следует обратить внимание на такие страны как: Гонконг (большой средний чек!), Португалия, Сингапур, Норвегия, Австралия, Нидерланды, Швеция.\n",
    "\n",
    "Если имеются проблемы с логистикой в мировых масштабах и нет возможности точечно развиваться в странах, то можно предложить развитие рынка через ближайшие европейские страны.\n",
    "\n",
    "Также стоит более детально узнать у заказчика, что означают данные по оъемам заказа с отрицательным значением. Если это возвраты, брак, то необходимо уделить внимание анализу и формулированию гипотез по уменьшению их объемов.\n",
    "\n",
    "Далее перейдем к построению дашборда через Google Data Studio с построением инфографиков и визуализированием стат. данных."
   ]
  }
 ],
 "metadata": {
  "kernelspec": {
   "display_name": "Python 3",
   "language": "python",
   "name": "python3"
  },
  "language_info": {
   "codemirror_mode": {
    "name": "ipython",
    "version": 3
   },
   "file_extension": ".py",
   "mimetype": "text/x-python",
   "name": "python",
   "nbconvert_exporter": "python",
   "pygments_lexer": "ipython3",
   "version": "3.8.3"
  }
 },
 "nbformat": 4,
 "nbformat_minor": 4
}
