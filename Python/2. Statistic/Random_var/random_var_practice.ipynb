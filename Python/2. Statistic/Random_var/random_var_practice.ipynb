{
 "cells": [
  {
   "cell_type": "code",
   "execution_count": 1,
   "metadata": {},
   "outputs": [],
   "source": [
    "import numpy as np"
   ]
  },
  {
   "cell_type": "code",
   "execution_count": 17,
   "metadata": {},
   "outputs": [
    {
     "data": {
      "text/plain": [
       "4"
      ]
     },
     "execution_count": 17,
     "metadata": {},
     "output_type": "execute_result"
    }
   ],
   "source": [
    "# генерируем дискретную величину\n",
    "np.random.randint(1, 5)"
   ]
  },
  {
   "cell_type": "code",
   "execution_count": 18,
   "metadata": {},
   "outputs": [
    {
     "data": {
      "text/plain": [
       "array([1, 1, 4, 4, 4, 1, 2, 1, 3, 1, 2, 2, 2, 3, 2, 2, 4, 4, 2, 3, 2, 1,\n",
       "       1, 1, 3, 1, 1, 2, 4, 4, 1, 2, 4, 4, 1, 3, 2, 1, 1, 2, 4, 3, 1, 1,\n",
       "       4, 4, 1, 1, 3, 1, 2, 3, 3, 3, 4, 3, 4, 3, 4, 3, 3, 1, 2, 3, 3, 3,\n",
       "       4, 3, 4, 4, 1, 4, 1, 1, 4, 2, 3, 2, 1, 3, 1, 3, 2, 1, 3, 3, 4, 4,\n",
       "       4, 4, 1, 3, 1, 2, 2, 4, 3, 3, 4, 4])"
      ]
     },
     "execution_count": 18,
     "metadata": {},
     "output_type": "execute_result"
    }
   ],
   "source": [
    "np.random.randint(1, 5, 100)"
   ]
  },
  {
   "cell_type": "code",
   "execution_count": 43,
   "metadata": {},
   "outputs": [
    {
     "data": {
      "text/plain": [
       "array([0.37193645, 0.92694844, 0.55077548, 0.75918321, 0.82887185,\n",
       "       0.15439114, 0.82500293, 0.74130275, 0.69821312, 0.09746106,\n",
       "       0.11516484, 0.75128954, 0.92556136, 0.21237331, 0.45513148,\n",
       "       0.80975624, 0.27517472, 0.74089066, 0.72525981, 0.23253205,\n",
       "       0.75777803, 0.02018305, 0.75302808, 0.04070342, 0.15002051,\n",
       "       0.99147227, 0.87755056, 0.0562421 , 0.90196784, 0.24753666,\n",
       "       0.86873146, 0.80613509, 0.34562794, 0.83846936, 0.49622979,\n",
       "       0.53002685, 0.12244129, 0.04210136, 0.02461792, 0.10823219,\n",
       "       0.38855923, 0.87146957, 0.69573035, 0.59637462, 0.41903083,\n",
       "       0.97649284, 0.86598391, 0.16985056, 0.64539314, 0.57895951,\n",
       "       0.66132955, 0.8805711 , 0.70589135, 0.9825879 , 0.32203844,\n",
       "       0.35778864, 0.27331255, 0.78911934, 0.9794492 , 0.42571781,\n",
       "       0.55776461, 0.17926313, 0.76307063, 0.51366672, 0.7773332 ,\n",
       "       0.28108707, 0.04445161, 0.19247162, 0.56774835, 0.53707556,\n",
       "       0.51722435, 0.59266805, 0.44733242, 0.1227233 , 0.86532375,\n",
       "       0.61451096, 0.07118012, 0.25598228, 0.55483795, 0.08696968,\n",
       "       0.94451934, 0.85117547, 0.03856621, 0.97779456, 0.81789618,\n",
       "       0.93802323, 0.69564687, 0.08155258, 0.87495719, 0.03318546,\n",
       "       0.54949944, 0.04351116, 0.46413655, 0.46302333, 0.83183514,\n",
       "       0.57384042, 0.11343224, 0.83468295, 0.73829848, 0.46101428])"
      ]
     },
     "execution_count": 43,
     "metadata": {},
     "output_type": "execute_result"
    }
   ],
   "source": [
    "# генерируем непрерывную величину\n",
    "np.random.random(100)"
   ]
  },
  {
   "cell_type": "code",
   "execution_count": 42,
   "metadata": {},
   "outputs": [
    {
     "data": {
      "text/plain": [
       "4.486298606290051"
      ]
     },
     "execution_count": 42,
     "metadata": {},
     "output_type": "execute_result"
    }
   ],
   "source": [
    "np.random.uniform(1, 5)"
   ]
  },
  {
   "cell_type": "code",
   "execution_count": 44,
   "metadata": {},
   "outputs": [
    {
     "data": {
      "text/plain": [
       "array([2.91191109, 2.08377956, 1.90099527, 3.49269242, 3.98791844,\n",
       "       1.18514632, 1.39376462, 3.83310208, 4.92425069, 4.22799324,\n",
       "       1.88496617, 3.81180527, 1.09303731, 4.70487026, 1.95342094,\n",
       "       4.19731219, 4.15422055, 4.53313263, 2.29635528, 1.22577486,\n",
       "       1.96053607, 2.51378569, 3.85546106, 2.17047645, 2.6868116 ,\n",
       "       2.98142663, 1.58362888, 3.68042221, 2.87474368, 2.78627083,\n",
       "       4.67190604, 4.04938366, 2.67425529, 3.98961754, 3.05054089,\n",
       "       1.92999172, 3.13314823, 1.16127833, 3.42150295, 3.27548597,\n",
       "       4.18433617, 1.50504718, 1.67078097, 3.59050164, 3.4010056 ,\n",
       "       4.96477479, 4.43664916, 2.39620847, 4.18037237, 1.20903341,\n",
       "       1.65925264, 3.97558209, 4.58942443, 2.99017929, 3.7673274 ,\n",
       "       4.22366847, 4.36143199, 1.11111387, 1.66477006, 3.31593766,\n",
       "       2.59350401, 3.20974044, 4.17471064, 2.00363359, 3.10071188,\n",
       "       3.23472347, 1.72075088, 2.48958152, 4.03991028, 4.71741928,\n",
       "       3.58815812, 1.01720536, 4.03355609, 4.08362889, 2.9401023 ,\n",
       "       3.19237498, 3.83635679, 3.19316896, 4.1728996 , 1.8380644 ,\n",
       "       4.55438258, 2.26468179, 1.10482906, 2.33587836, 1.55315309,\n",
       "       3.98736307, 4.75174256, 4.96701835, 2.24447778, 3.19318222,\n",
       "       4.72285308, 1.20717603, 4.22851146, 2.43697733, 2.77780147,\n",
       "       4.25480951, 2.63745072, 4.24126841, 3.49288162, 4.21682481])"
      ]
     },
     "execution_count": 44,
     "metadata": {},
     "output_type": "execute_result"
    }
   ],
   "source": [
    "np.random.uniform(1, 5, 100)"
   ]
  },
  {
   "cell_type": "markdown",
   "metadata": {},
   "source": [
    "**Задача 1.** Оценить вероятность того, что на игральной кости выпадет больше 4 очков. Сравнить с теоретической вероятностью."
   ]
  },
  {
   "cell_type": "code",
   "execution_count": 49,
   "metadata": {},
   "outputs": [
    {
     "name": "stdout",
     "output_type": "stream",
     "text": [
      "327 1000 0.327 0.3333333333333333\n"
     ]
    }
   ],
   "source": [
    "import numpy as np\n",
    "# np.random.seed(None)\n",
    "trials = 1000    # Количество попыток\n",
    "successes = 0    # Количество успехов\n",
    "\n",
    "for i in range(trials):\n",
    "    random_score = np.random.randint(1, 7)    # Случайное количество очков от 1 до 6\n",
    "    if random_score > 4:\n",
    "        successes += 1\n",
    "        \n",
    "p_monte_carlo = successes / trials    # Вероятность из моделирования\n",
    "p = 2 / 6                             # Теоретическая вероятность\n",
    "\n",
    "print(successes, trials, p_monte_carlo, p)"
   ]
  },
  {
   "cell_type": "markdown",
   "metadata": {},
   "source": [
    "**Задача 1А** (опциональная). Дан квадрат, в который вписан круг (касаясь сторон квадрата). В квадрат случайным образом попадают точки. Какова вероятность, что наугад взятая точка попадёт в круг?  \n",
    "_Подсказка:_ Удобно взять квардат со стороной, равной 2, и отсчитывать координаты точек от его центра."
   ]
  },
  {
   "cell_type": "code",
   "execution_count": null,
   "metadata": {},
   "outputs": [],
   "source": []
  },
  {
   "cell_type": "code",
   "execution_count": null,
   "metadata": {},
   "outputs": [],
   "source": []
  },
  {
   "cell_type": "markdown",
   "metadata": {},
   "source": [
    "**Задача 2.** Смоделировать стрельбу по мишени."
   ]
  },
  {
   "cell_type": "code",
   "execution_count": 33,
   "metadata": {},
   "outputs": [
    {
     "data": {
      "text/plain": [
       "<matplotlib.collections.PathCollection at 0x1d6e8bbc280>"
      ]
     },
     "execution_count": 33,
     "metadata": {},
     "output_type": "execute_result"
    },
    {
     "data": {
      "image/png": "[encoded data removed]",
      "text/plain": [
       "<Figure size 432x288 with 1 Axes>"
      ]
     },
     "metadata": {
      "needs_background": "light"
     },
     "output_type": "display_data"
    }
   ],
   "source": [
    "import matplotlib.pyplot as plt\n",
    "\n",
    "shots = 1000    # Количество выстрелов\n",
    "std_dev = 1 # Стандартное отклонение (на сколько мы в среднем будем мазать)\n",
    "\n",
    "x = np.random.normal(0, std_dev, shots) # 0 - и среднее, и мода, и медиана\n",
    "y = np.random.normal(0, std_dev, shots)\n",
    "\n",
    "\n",
    "plt.scatter(x, y)\n",
    "# почему разброс от -3 до 3?"
   ]
  },
  {
   "cell_type": "markdown",
   "metadata": {},
   "source": [
    "**Задача 3.** Графически определить распределение измеренных значений физической величины, когда измерительный прибор имеет случайную погрешность."
   ]
  },
  {
   "cell_type": "code",
   "execution_count": 34,
   "metadata": {},
   "outputs": [
    {
     "data": {
      "text/plain": [
       "count    1040.000000\n",
       "mean       -9.797112\n",
       "std         0.087958\n",
       "min       -10.030373\n",
       "25%        -9.866481\n",
       "50%        -9.800747\n",
       "75%        -9.727398\n",
       "max        -9.570811\n",
       "Name: az, dtype: float64"
      ]
     },
     "execution_count": 34,
     "metadata": {},
     "output_type": "execute_result"
    }
   ],
   "source": [
    "import pandas as pd\n",
    "\n",
    "data = pd.read_csv(\"data.log\", sep=\" \")[\"az\"]\n",
    "data.describe()"
   ]
  },
  {
   "cell_type": "code",
   "execution_count": 35,
   "metadata": {},
   "outputs": [
    {
     "data": {
      "text/plain": [
       "<matplotlib.axes._subplots.AxesSubplot at 0x1d6ea84af70>"
      ]
     },
     "execution_count": 35,
     "metadata": {},
     "output_type": "execute_result"
    },
    {
     "data": {
      "image/png": "[encoded data removed]",
      "text/plain": [
       "<Figure size 432x288 with 1 Axes>"
      ]
     },
     "metadata": {
      "needs_background": "light"
     },
     "output_type": "display_data"
    }
   ],
   "source": [
    "data.plot()"
   ]
  },
  {
   "cell_type": "code",
   "execution_count": 45,
   "metadata": {},
   "outputs": [
    {
     "ename": "NameError",
     "evalue": "name 'uni' is not defined",
     "output_type": "error",
     "traceback": [
      "\u001b[1;31m---------------------------------------------------------------------------\u001b[0m",
      "\u001b[1;31mNameError\u001b[0m                                 Traceback (most recent call last)",
      "\u001b[1;32m<ipython-input-45-f9cbf9684830>\u001b[0m in \u001b[0;36m<module>\u001b[1;34m\u001b[0m\n\u001b[1;32m----> 1\u001b[1;33m \u001b[0mplt\u001b[0m\u001b[1;33m.\u001b[0m\u001b[0mhist\u001b[0m\u001b[1;33m(\u001b[0m\u001b[0muni\u001b[0m\u001b[1;33m,\u001b[0m \u001b[0mbins\u001b[0m\u001b[1;33m=\u001b[0m\u001b[1;36m11\u001b[0m\u001b[1;33m)\u001b[0m\u001b[1;33m\u001b[0m\u001b[1;33m\u001b[0m\u001b[0m\n\u001b[0m\u001b[0;32m      2\u001b[0m \u001b[0mplt\u001b[0m\u001b[1;33m.\u001b[0m\u001b[0mshow\u001b[0m\u001b[1;33m(\u001b[0m\u001b[1;33m)\u001b[0m\u001b[1;33m\u001b[0m\u001b[1;33m\u001b[0m\u001b[0m\n\u001b[0;32m      3\u001b[0m \u001b[0mplt\u001b[0m\u001b[1;33m.\u001b[0m\u001b[0mhist\u001b[0m\u001b[1;33m(\u001b[0m\u001b[0mnormal\u001b[0m\u001b[1;33m,\u001b[0m \u001b[0mbins\u001b[0m\u001b[1;33m=\u001b[0m\u001b[1;36m11\u001b[0m\u001b[1;33m)\u001b[0m\u001b[1;33m\u001b[0m\u001b[1;33m\u001b[0m\u001b[0m\n\u001b[0;32m      4\u001b[0m \u001b[0mplt\u001b[0m\u001b[1;33m.\u001b[0m\u001b[0mshow\u001b[0m\u001b[1;33m(\u001b[0m\u001b[1;33m)\u001b[0m\u001b[1;33m\u001b[0m\u001b[1;33m\u001b[0m\u001b[0m\n\u001b[0;32m      5\u001b[0m \u001b[0mplt\u001b[0m\u001b[1;33m.\u001b[0m\u001b[0mhist\u001b[0m\u001b[1;33m(\u001b[0m\u001b[0mdata\u001b[0m\u001b[1;33m,\u001b[0m \u001b[0mbins\u001b[0m\u001b[1;33m=\u001b[0m\u001b[1;36m11\u001b[0m\u001b[1;33m)\u001b[0m\u001b[1;33m\u001b[0m\u001b[1;33m\u001b[0m\u001b[0m\n",
      "\u001b[1;31mNameError\u001b[0m: name 'uni' is not defined"
     ]
    }
   ],
   "source": [
    "plt.hist(uni, bins=11)\n",
    "plt.show()\n",
    "plt.hist(normal, bins=11)\n",
    "plt.show()\n",
    "plt.hist(data, bins=11)\n",
    "plt.show()"
   ]
  },
  {
   "cell_type": "markdown",
   "metadata": {},
   "source": [
    "**Задача 4.** Рассчитать вероятность того, что пациент заражён COVID-19, если известно, что тест дал положительный результат. Сравнить с результатом моделирования."
   ]
  },
  {
   "cell_type": "code",
   "execution_count": 51,
   "metadata": {},
   "outputs": [
    {
     "name": "stdout",
     "output_type": "stream",
     "text": [
      "0.8260869565217391\n"
     ]
    }
   ],
   "source": [
    "prev = 0.50    # Распространённость болезни\n",
    "sens = 0.95    # Чувствительность теста\n",
    "spec = 0.80    # Специфичность теста\n",
    "\n",
    "p = (sens * prev) / (sens * prev + (1 - spec) * (1 - prev))   # Теоретическая вероятность \n",
    "print(p)"
   ]
  },
  {
   "cell_type": "code",
   "execution_count": 50,
   "metadata": {},
   "outputs": [
    {
     "name": "stdout",
     "output_type": "stream",
     "text": [
      "0.8214285714285714\n"
     ]
    }
   ],
   "source": [
    "population = 100    # Количество испытуемых\n",
    "\n",
    "true_pos = 0    # Количество больных с положительным тестом\n",
    "false_pos = 0   # Количество здоровых с положительным тестом\n",
    "\n",
    "for i in range(population):\n",
    "    # Наугад решаем, заражён ли человек\n",
    "    # для этого генерируем случайную величину от 0 до 1     \n",
    "    infected = np.random.uniform() < prev\n",
    "    \n",
    "    # Наугад решаем, дал ли тест положительный результат \n",
    "    positive = np.random.uniform() < sens if infected else np.random.uniform() < 1 - spec\n",
    "    \n",
    "    if positive:\n",
    "        if infected:\n",
    "            true_pos += 1\n",
    "        else:\n",
    "            false_pos += 1\n",
    "            \n",
    "p_monte_carlo = true_pos / (true_pos + false_pos)    # Вероятность из моделирования\n",
    "print(p_monte_carlo)"
   ]
  }
 ],
 "metadata": {
  "kernelspec": {
   "display_name": "Python 3",
   "language": "python",
   "name": "python3"
  },
  "language_info": {
   "codemirror_mode": {
    "name": "ipython",
    "version": 3
   },
   "file_extension": ".py",
   "mimetype": "text/x-python",
   "name": "python",
   "nbconvert_exporter": "python",
   "pygments_lexer": "ipython3",
   "version": "3.8.3"
  }
 },
 "nbformat": 4,
 "nbformat_minor": 4
}
